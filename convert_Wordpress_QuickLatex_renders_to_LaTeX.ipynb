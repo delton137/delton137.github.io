{
 "cells": [
  {
   "cell_type": "code",
   "execution_count": 47,
   "id": "adf41264",
   "metadata": {},
   "outputs": [],
   "source": [
    "import html, re\n",
    "\n",
    "\n",
    "f = open(\"_posts/2015-11-23-mind-blowing-bayesian-reasoning-problems.md\", 'r')\n",
    "\n",
    "lines = f.readlines()\n",
    "\n",
    "\n",
    "\n",
    "\n"
   ]
  },
  {
   "cell_type": "code",
   "execution_count": 52,
   "id": "3c6a4cbc",
   "metadata": {},
   "outputs": [],
   "source": [
    "newlines = []\n",
    "\n",
    "for l in lines: \n",
    "    l2 = re.sub(\"<img src=\\\"http://www.moreisdifferent.com/wp-content/ql-cache/.*alt=\\\"\", \"$$\", l)\n",
    "    l2 = re.sub(\"title=\\\"Rendered by QuickLaTeX.com\\\" .*\\\" />\", \"$$\", l2)\n",
    "    l2 = l2.replace(\"\\\" $$\", \"$$\")\n",
    "    l2 = html.unescape(l2)\n",
    "    newlines += [l2]\n",
    "    "
   ]
  },
  {
   "cell_type": "code",
   "execution_count": 55,
   "id": "e6f984bc",
   "metadata": {},
   "outputs": [],
   "source": [
    "with open('_posts/test.md', 'w') as f2:\n",
    "    f2.writelines(newlines)"
   ]
  },
  {
   "cell_type": "code",
   "execution_count": null,
   "id": "48861772",
   "metadata": {},
   "outputs": [],
   "source": []
  }
 ],
 "metadata": {
  "kernelspec": {
   "display_name": "Python 3",
   "language": "python",
   "name": "python3"
  },
  "language_info": {
   "codemirror_mode": {
    "name": "ipython",
    "version": 3
   },
   "file_extension": ".py",
   "mimetype": "text/x-python",
   "name": "python",
   "nbconvert_exporter": "python",
   "pygments_lexer": "ipython3",
   "version": "3.8.6"
  }
 },
 "nbformat": 4,
 "nbformat_minor": 5
}
